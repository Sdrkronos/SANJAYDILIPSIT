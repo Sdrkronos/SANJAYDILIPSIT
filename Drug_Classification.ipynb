{
  "nbformat": 4,
  "nbformat_minor": 0,
  "metadata": {
    "colab": {
      "name": "Drug Classification.ipynb",
      "provenance": [],
      "authorship_tag": "ABX9TyOB6eUGJ5cl7/N3hO8f9M04",
      "include_colab_link": true
    },
    "kernelspec": {
      "name": "python3",
      "display_name": "Python 3"
    },
    "language_info": {
      "name": "python"
    }
  },
  "cells": [
    {
      "cell_type": "markdown",
      "metadata": {
        "id": "view-in-github",
        "colab_type": "text"
      },
      "source": [
        "<a href=\"https://colab.research.google.com/github/Sdrkronos/SANJAYDILIPSIT/blob/main/Drug_Classification.ipynb\" target=\"_parent\"><img src=\"https://colab.research.google.com/assets/colab-badge.svg\" alt=\"Open In Colab\"/></a>"
      ]
    },
    {
      "cell_type": "code",
      "metadata": {
        "colab": {
          "base_uri": "https://localhost:8080/"
        },
        "id": "_3vrdfY5vxy7",
        "outputId": "e9f715cc-532a-4bc3-9996-cfec23a3f021"
      },
      "source": [
        "import numpy as np\n",
        "import pandas as pd\n",
        "import matplotlib.pyplot as plt\n",
        "import seaborn as sns\n",
        "df = pd.read_csv('/content/drug200 ML Assignment 1.csv')\n",
        "df.head()\n",
        "df.info()\n",
        "df.isna().sum()\n",
        "df = df.dropna()\n",
        "df.info()\n",
        "pd.get_dummies(df)\n",
        "X = pd.get_dummies(df.drop('Drug',axis=1),drop_first=True)\n",
        "y = df['Drug']\n",
        "X.head()\n",
        "y.head()\n",
        "from sklearn.model_selection import train_test_split\n",
        "X_train, X_test, y_train, y_test = train_test_split(X, y, test_size=0.3, random_state=101)\n",
        "from sklearn.preprocessing import StandardScaler\n",
        "scaler = StandardScaler()\n",
        "scaled_X_train = scaler.fit_transform(X_train)\n",
        "scaled_X_test = scaler.transform(X_test)\n",
        "from sklearn.neighbors import KNeighborsClassifier\n",
        "knn_model = KNeighborsClassifier(n_neighbors=14)\n",
        "knn_model.fit(scaled_X_train,y_train)\n",
        "full_test = pd.concat([X_test,y_test],axis=1)\n",
        "len(full_test)\n",
        "y_pred = knn_model.predict(scaled_X_test)\n",
        "from sklearn.metrics import classification_report,confusion_matrix,accuracy_score\n",
        "accuracy_score(y_test,y_pred)\n",
        "confusion_matrix(y_test,y_pred)\n",
        "print(classification_report(y_test,y_pred))"
      ],
      "execution_count": 11,
      "outputs": [
        {
          "output_type": "stream",
          "name": "stdout",
          "text": [
            "<class 'pandas.core.frame.DataFrame'>\n",
            "RangeIndex: 200 entries, 0 to 199\n",
            "Data columns (total 6 columns):\n",
            " #   Column       Non-Null Count  Dtype  \n",
            "---  ------       --------------  -----  \n",
            " 0   Age          200 non-null    int64  \n",
            " 1   Sex          200 non-null    object \n",
            " 2   BP           200 non-null    object \n",
            " 3   Cholesterol  200 non-null    object \n",
            " 4   Na_to_K      200 non-null    float64\n",
            " 5   Drug         200 non-null    object \n",
            "dtypes: float64(1), int64(1), object(4)\n",
            "memory usage: 9.5+ KB\n",
            "<class 'pandas.core.frame.DataFrame'>\n",
            "Int64Index: 200 entries, 0 to 199\n",
            "Data columns (total 6 columns):\n",
            " #   Column       Non-Null Count  Dtype  \n",
            "---  ------       --------------  -----  \n",
            " 0   Age          200 non-null    int64  \n",
            " 1   Sex          200 non-null    object \n",
            " 2   BP           200 non-null    object \n",
            " 3   Cholesterol  200 non-null    object \n",
            " 4   Na_to_K      200 non-null    float64\n",
            " 5   Drug         200 non-null    object \n",
            "dtypes: float64(1), int64(1), object(4)\n",
            "memory usage: 10.9+ KB\n",
            "              precision    recall  f1-score   support\n",
            "\n",
            "       DrugY       0.73      0.85      0.79        26\n",
            "       drugA       0.86      1.00      0.92         6\n",
            "       drugB       1.00      0.83      0.91         6\n",
            "       drugC       1.00      0.22      0.36         9\n",
            "       drugX       0.69      0.85      0.76        13\n",
            "\n",
            "    accuracy                           0.77        60\n",
            "   macro avg       0.86      0.75      0.75        60\n",
            "weighted avg       0.80      0.77      0.74        60\n",
            "\n"
          ]
        }
      ]
    }
  ]
}